{
 "cells": [
  {
   "cell_type": "code",
   "execution_count": null,
   "metadata": {},
   "outputs": [],
   "source": [
    "from elevenlabs.client import ElevenLabs\n",
    "from dotenv import load_dotenv\n",
    "import os\n",
    "\n",
    "load_dotenv()\n",
    "client = ElevenLabs(\n",
    "    api_key=os.getenv(\"ELEVENLABS_API_KEY\"),\n",
    ")"
   ]
  },
  {
   "cell_type": "code",
   "execution_count": 16,
   "metadata": {},
   "outputs": [],
   "source": [
    "file_name = \"local_test_audios/output_2.wav\""
   ]
  },
  {
   "cell_type": "code",
   "execution_count": 17,
   "metadata": {},
   "outputs": [],
   "source": [
    "if os.path.basename(os.getcwd()) == \"test\":\n",
    "    os.chdir(os.path.dirname(os.getcwd()))\n",
    "with open(file_name, \"rb\") as f:\n",
    "    content = f.read()"
   ]
  },
  {
   "cell_type": "code",
   "execution_count": null,
   "metadata": {},
   "outputs": [],
   "source": [
    "transcription = client.speech_to_text.convert(\n",
    "    file=content,\n",
    "    model_id=\"scribe_v1\",\n",
    "    tag_audio_events=False,\n",
    "    language_code=\"pl\",\n",
    "    diarize=False,\n",
    ")"
   ]
  },
  {
   "cell_type": "code",
   "execution_count": 19,
   "metadata": {},
   "outputs": [
    {
     "name": "stdout",
     "output_type": "stream",
     "text": [
      "Panno Święta, co w jasnej bronisz Częstochowy i ostrej świecisz broni.\n"
     ]
    }
   ],
   "source": [
    "print(transcription.text)"
   ]
  },
  {
   "cell_type": "code",
   "execution_count": null,
   "metadata": {
    "metadata": {}
   },
   "outputs": [],
   "source": [
    "import os\n",
    "\n",
    "\n",
    "# Important is to set working directory to live_translator-dev. Below code switches working directory from from live-translator-app//test to live_translator-dev\n",
    "if os.path.basename(os.getcwd()) == \"test\":\n",
    "    os.chdir(os.path.dirname(os.getcwd()))\n",
    "\n",
    "from google.oauth2 import service_account\n",
    "from google.cloud.speech_v2 import SpeechClient\n",
    "from google.cloud.speech_v2.types import cloud_speech"
   ]
  },
  {
   "cell_type": "code",
   "execution_count": 58,
   "metadata": {
    "metadata": {}
   },
   "outputs": [],
   "source": [
    "import json"
   ]
  },
  {
   "cell_type": "code",
   "execution_count": 63,
   "metadata": {
    "metadata": {}
   },
   "outputs": [],
   "source": [
    "file_name = \"local_test_audios/output_0.wav\""
   ]
  },
  {
   "cell_type": "code",
   "execution_count": 65,
   "metadata": {
    "metadata": {}
   },
   "outputs": [],
   "source": [
    "def transcribe_file_v2(\n",
    "    audio_file: str,\n",
    ") -> cloud_speech.RecognizeResponse:\n",
    "    # Instantiates a client\n",
    "    credentials = service_account.Credentials.from_service_account_file(\n",
    "        \"google_python_project_API.json\"\n",
    "    )\n",
    "    with open(\"google_python_project_API.json\") as file:\n",
    "        project_id = json.load(file)[\"project_id\"]\n",
    "    client = SpeechClient(credentials=credentials)\n",
    "\n",
    "    # Reads a file as bytes\n",
    "    with open(audio_file, \"rb\") as f:\n",
    "        content = f.read()\n",
    "\n",
    "    config = cloud_speech.RecognitionConfig(\n",
    "        auto_decoding_config=cloud_speech.AutoDetectDecodingConfig(),\n",
    "        language_codes=[\"pl-PL\"],\n",
    "        model=\"short\",\n",
    "    )\n",
    "\n",
    "    request = cloud_speech.RecognizeRequest(\n",
    "        recognizer=f\"projects/{project_id}/locations/global/recognizers/_\",\n",
    "        config=config,\n",
    "        content=content,\n",
    "    )\n",
    "\n",
    "    # Transcribes the audio into text\n",
    "    response = client.recognize(request=request)\n",
    "\n",
    "    for result in response.results:\n",
    "        print(f\"Transcript: {result.alternatives[0].transcript}\")\n",
    "\n",
    "    return response.results[0].alternatives[0].transcript"
   ]
  },
  {
   "cell_type": "code",
   "execution_count": 66,
   "metadata": {
    "metadata": {}
   },
   "outputs": [
    {
     "name": "stdout",
     "output_type": "stream",
     "text": [
      "Transcript: Litwo ojczyzno moja ty jesteś jak zdrowie ile cię trzeba cenić ten tylko się dowie kto cię\n"
     ]
    }
   ],
   "source": [
    "result = transcribe_file_v2(file_name)"
   ]
  },
  {
   "cell_type": "code",
   "execution_count": 50,
   "metadata": {
    "metadata": {}
   },
   "outputs": [
    {
     "data": {
      "text/plain": [
       "'Litwo ojczyzno moja ty jesteś jak zdrowie ile cię trzeba cenić ten tylko się dowie kto cię stra'"
      ]
     },
     "execution_count": 50,
     "metadata": {},
     "output_type": "execute_result"
    }
   ],
   "source": [
    "result"
   ]
  },
  {
   "cell_type": "code",
   "execution_count": 3,
   "metadata": {
    "metadata": {}
   },
   "outputs": [
    {
     "data": {
      "text/plain": [
       "'c:\\\\repo\\\\live_translator-dev'"
      ]
     },
     "execution_count": 3,
     "metadata": {},
     "output_type": "execute_result"
    }
   ],
   "source": [
    "os.getcwd()"
   ]
  },
  {
   "cell_type": "code",
   "execution_count": 2,
   "metadata": {},
   "outputs": [
    {
     "name": "stderr",
     "output_type": "stream",
     "text": [
      "2024-03-13 10:22:11 - INFO - adding to queue audios/output_0.wav\n",
      "2024-03-13 10:22:16 - INFO - adding to queue audios/output_1.wav\n"
     ]
    }
   ],
   "source": [
    "\n",
    "# read all utils - get settings anf functions\n",
    "%run -i \"translator_app\\utils.py\"\n",
    "# define threads\n",
    "recording_thread = threading.Thread(target=record_audio)\n",
    "writing_thread = threading.Thread(target=write_audio)\n",
    "transcript_thread = threading.Thread(target=transcript)\n",
    "translate_thread = threading.Thread(target=translate)\n",
    "# run threads\n",
    "recording_thread.start()\n",
    "writing_thread.start()\n",
    "transcript_thread.start()\n",
    "translate_thread.start()"
   ]
  },
  {
   "cell_type": "code",
   "execution_count": 3,
   "metadata": {},
   "outputs": [],
   "source": [
    "# Stop all active running threads\n",
    "globals.run_threads = False"
   ]
  }
 ],
 "metadata": {
  "kernelspec": {
   "display_name": ".venv",
   "language": "python",
   "name": "python3"
  },
  "language_info": {
   "codemirror_mode": {
    "name": "ipython",
    "version": 3
   },
   "file_extension": ".py",
   "mimetype": "text/x-python",
   "name": "python",
   "nbconvert_exporter": "python",
   "pygments_lexer": "ipython3",
   "version": "3.11.7"
  }
 },
 "nbformat": 4,
 "nbformat_minor": 2
}
