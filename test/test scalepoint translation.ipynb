{
 "cells": [
  {
   "cell_type": "code",
   "execution_count": 1,
   "metadata": {},
   "outputs": [
    {
     "data": {
      "text/plain": [
       "'c:\\\\repo\\\\live_translator-dev\\\\test'"
      ]
     },
     "execution_count": 1,
     "metadata": {},
     "output_type": "execute_result"
    }
   ],
   "source": [
    "import os\n",
    "\n",
    "os.getcwd()"
   ]
  },
  {
   "cell_type": "code",
   "execution_count": 2,
   "metadata": {},
   "outputs": [],
   "source": [
    "if os.path.basename(os.getcwd()) == \"test\":\n",
    "    os.chdir(os.path.dirname(os.getcwd()))"
   ]
  },
  {
   "cell_type": "code",
   "execution_count": 3,
   "metadata": {},
   "outputs": [],
   "source": [
    "file_name = \"local_test_audios/output_0.wav\""
   ]
  },
  {
   "cell_type": "code",
   "execution_count": 4,
   "metadata": {},
   "outputs": [],
   "source": [
    "%run -i \"translator_app\\utils.py\""
   ]
  },
  {
   "cell_type": "code",
   "execution_count": 45,
   "metadata": {},
   "outputs": [],
   "source": [
    "headers = {\n",
    "    \"accept\": \"application/json\",\n",
    "    \"Authorization\": f\"Bearer {SCALEPOINT_BEARER}\",\n",
    "}\n",
    "with open(file_name, \"rb\") as f:\n",
    "    wav_content = f.read()\n",
    "    wav_io = io.BytesIO(wav_content)\n",
    "    files = {\"file\": (\"audio.wav\", wav_io, \"audio/wav\")}"
   ]
  },
  {
   "cell_type": "code",
   "execution_count": 46,
   "metadata": {},
   "outputs": [],
   "source": [
    "response = requests.post(\n",
    "    f\"{SCALEPOINT_ENDPOINT}/translations/?response_format=text&language=polish\",\n",
    "    headers=headers,\n",
    "    files=files,\n",
    ")"
   ]
  },
  {
   "cell_type": "code",
   "execution_count": 47,
   "metadata": {},
   "outputs": [
    {
     "data": {
      "text/plain": [
       "{'text': \"LITF is my favorite, I'm so happy to see you\\n\"}"
      ]
     },
     "execution_count": 47,
     "metadata": {},
     "output_type": "execute_result"
    }
   ],
   "source": [
    "response.json()"
   ]
  },
  {
   "cell_type": "code",
   "execution_count": 48,
   "metadata": {},
   "outputs": [
    {
     "name": "stderr",
     "output_type": "stream",
     "text": [
      "2024-04-05 11:33:50 - INFO - adding to queue audios/output_0.wav\n",
      "2024-04-05 11:33:56 - INFO - adding to queue audios/output_1.wav\n",
      "2024-04-05 11:33:58 - INFO - Response: żeby długuje miera dama\n",
      "ale tak zawsze spokoła\n",
      "\n",
      "2024-04-05 11:33:58 - INFO - transcription of audios/output_1.wav finished!\n",
      "2024-04-05 11:33:59 - INFO - HTTP Request: POST https://api.openai.com/v1/chat/completions \"HTTP/1.1 200 OK\"\n",
      "2024-04-05 11:33:59 - INFO - created_translation: that's how it always is\n",
      "2024-04-05 11:34:01 - INFO - adding to queue audios/output_2.wav\n",
      "2024-04-05 11:34:03 - INFO - Response: a no już widać, mówił widać co się uda.\n",
      "\n",
      "2024-04-05 11:34:04 - INFO - transcription of audios/output_2.wav finished!\n",
      "2024-04-05 11:34:04 - INFO - HTTP Request: POST https://api.openai.com/v1/chat/completions \"HTTP/1.1 200 OK\"\n",
      "2024-04-05 11:34:05 - INFO - created_translation: oh, you can already see, he said you can see what will succeed.\n",
      "2024-04-05 11:34:07 - INFO - adding to queue audios/output_3.wav\n",
      "2024-04-05 11:34:08 - INFO - Response: Mmm.\n",
      "\n",
      "2024-04-05 11:34:09 - INFO - transcription of audios/output_3.wav finished!\n",
      "2024-04-05 11:34:10 - INFO - HTTP Request: POST https://api.openai.com/v1/chat/completions \"HTTP/1.1 200 OK\"\n",
      "2024-04-05 11:34:10 - INFO - created_translation: Mmm.\n",
      "2024-04-05 11:34:12 - INFO - adding to queue audios/output_4.wav\n",
      "2024-04-05 11:34:14 - INFO - Response: Na ozobaczemy, co to potrzebmy.\n",
      "Widzę, że tak w idzie.\n",
      "\n",
      "2024-04-05 11:34:14 - INFO - transcription of audios/output_4.wav finished!\n",
      "2024-04-05 11:34:15 - INFO - HTTP Request: POST https://api.openai.com/v1/chat/completions \"HTTP/1.1 200 OK\"\n",
      "2024-04-05 11:34:16 - INFO - created_translation: We'll see what we need.\n",
      "I see that's how it's going.\n",
      "2024-04-05 11:34:17 - INFO - adding to queue audios/output_5.wav\n",
      "2024-04-05 11:34:19 - INFO - Response: Иди, я кое-что иди, но...\n",
      "Сочет вам все другую.\n",
      "\n",
      "2024-04-05 11:34:19 - INFO - transcription of audios/output_5.wav finished!\n",
      "2024-04-05 11:34:20 - INFO - HTTP Request: POST https://api.openai.com/v1/chat/completions \"HTTP/1.1 200 OK\"\n",
      "2024-04-05 11:34:20 - INFO - created_translation: Go, I something go, but...\n",
      "It combines everything else.\n",
      "2024-04-05 11:34:23 - INFO - adding to queue audios/output_6.wav\n",
      "2024-04-05 11:34:24 - INFO - Response: Слушайте, что ты не куруешь?\n",
      "\n",
      "2024-04-05 11:34:25 - INFO - transcription of audios/output_6.wav finished!\n",
      "2024-04-05 11:34:26 - INFO - HTTP Request: POST https://api.openai.com/v1/chat/completions \"HTTP/1.1 200 OK\"\n",
      "2024-04-05 11:34:26 - INFO - created_translation: Listen, do you not smoke?\n"
     ]
    }
   ],
   "source": [
    "# Important is to set working directory to live_translator-dev. Below code switches working directory from from live-translator-app//test to live_translator-dev\n",
    "if os.path.basename(os.getcwd()) == \"test\":\n",
    "    os.chdir(os.path.dirname(os.getcwd()))\n",
    "# read all utils - get settings anf functions\n",
    "%run -i \"translator_app\\utils.py\"\n",
    "# define threads\n",
    "recording_thread = threading.Thread(target=record_audio)\n",
    "writing_thread = threading.Thread(target=write_audio)\n",
    "transcript_thread = threading.Thread(target=transcript)\n",
    "translate_thread = threading.Thread(target=translate)\n",
    "# run threads\n",
    "recording_thread.start()\n",
    "writing_thread.start()\n",
    "transcript_thread.start()\n",
    "translate_thread.start()"
   ]
  },
  {
   "cell_type": "code",
   "execution_count": 49,
   "metadata": {},
   "outputs": [],
   "source": [
    "# Stop all active running threads\n",
    "globals.run_threads = False"
   ]
  }
 ],
 "metadata": {
  "kernelspec": {
   "display_name": "env",
   "language": "python",
   "name": "python3"
  },
  "language_info": {
   "codemirror_mode": {
    "name": "ipython",
    "version": 3
   },
   "file_extension": ".py",
   "mimetype": "text/x-python",
   "name": "python",
   "nbconvert_exporter": "python",
   "pygments_lexer": "ipython3",
   "version": "3.9.13"
  }
 },
 "nbformat": 4,
 "nbformat_minor": 2
}
