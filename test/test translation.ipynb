{
 "cells": [
  {
   "cell_type": "code",
   "execution_count": 1,
   "metadata": {
    "metadata": {}
   },
   "outputs": [
    {
     "name": "stdout",
     "output_type": "stream",
     "text": [
      "c:\\repo\\live_translator-dev\n",
      "c:\\repo\\live_translator-dev\n"
     ]
    }
   ],
   "source": [
    "import os\n",
    "\n",
    "os.getcwd()\n",
    "if os.path.basename(os.getcwd()) == \"test\":\n",
    "    os.chdir(os.path.dirname(os.getcwd()))\n",
    "file_name = \"local_test_audios/output_0.wav\"\n",
    "# wczytanie funkcji z pliku utils.py\n",
    "%run -i \"translator_app\\utils.py\""
   ]
  },
  {
   "cell_type": "code",
   "execution_count": 2,
   "metadata": {
    "metadata": {}
   },
   "outputs": [
    {
     "name": "stderr",
     "output_type": "stream",
     "text": [
      "2024-04-12 13:46:49 - INFO - adding to queue audios/output_0.wav\n",
      "2024-04-12 13:46:55 - INFO - adding to queue audios/output_1.wav\n",
      "2024-04-12 13:46:58 - INFO - Response: gdy tylko tego pragniesz gdy bardzo chcesz rocz\n",
      "2024-04-12 13:46:58 - INFO - transcription of audios/output_1.wav finished!\n",
      "2024-04-12 13:46:59 - INFO - HTTP Request: POST https://api.openai.com/v1/chat/completions \"HTTP/1.1 200 OK\"\n",
      "2024-04-12 13:47:00 - INFO - created_translation: when you desire it when you really want it\n",
      "2024-04-12 13:47:00 - INFO - adding to queue audios/output_2.wav\n",
      "2024-04-12 13:47:02 - INFO - Response: zdarzyć gdy głowa pełna ma\n",
      "2024-04-12 13:47:02 - INFO - transcription of audios/output_2.wav finished!\n",
      "2024-04-12 13:47:03 - INFO - HTTP Request: POST https://api.openai.com/v1/chat/completions \"HTTP/1.1 200 OK\"\n",
      "2024-04-12 13:47:03 - INFO - created_translation: happen when the head is full\n",
      "2024-04-12 13:47:05 - INFO - adding to queue audios/output_3.wav\n",
      "2024-04-12 13:47:07 - INFO - Response: gdy tylko tego pragniesz gdy bardzo chcesz o wszystko\n",
      "2024-04-12 13:47:07 - INFO - transcription of audios/output_3.wav finished!\n",
      "2024-04-12 13:47:08 - INFO - HTTP Request: POST https://api.openai.com/v1/chat/completions \"HTTP/1.1 200 OK\"\n",
      "2024-04-12 13:47:08 - INFO - created_translation: when you desire it, when you really want it, about everything\n",
      "2024-04-12 13:47:10 - INFO - adding to queue audios/output_4.wav\n",
      "2024-04-12 13:47:12 - INFO - Response: gdy głowa pełna ma\n",
      "2024-04-12 13:47:12 - INFO - transcription of audios/output_4.wav finished!\n",
      "2024-04-12 13:47:13 - INFO - HTTP Request: POST https://api.openai.com/v1/chat/completions \"HTTP/1.1 200 OK\"\n",
      "2024-04-12 13:47:13 - INFO - created_translation: when the head is full\n",
      "2024-04-12 13:47:16 - INFO - adding to queue audios/output_5.wav\n",
      "2024-04-12 13:47:18 - INFO - Response: gdy tylko tego pragniesz ty bardzo chcesz to wszystko się\n",
      "2024-04-12 13:47:18 - INFO - transcription of audios/output_5.wav finished!\n",
      "2024-04-12 13:47:19 - INFO - HTTP Request: POST https://api.openai.com/v1/chat/completions \"HTTP/1.1 200 OK\"\n",
      "2024-04-12 13:47:19 - INFO - created_translation: when you desire it so much you really want it all to happen\n",
      "2024-04-12 13:47:21 - INFO - adding to queue audios/output_6.wav\n",
      "2024-04-12 13:47:22 - INFO - Response: zdarzyć gdy głowa pełna\n",
      "2024-04-12 13:47:23 - INFO - transcription of audios/output_6.wav finished!\n",
      "2024-04-12 13:47:23 - INFO - HTTP Request: POST https://api.openai.com/v1/chat/completions \"HTTP/1.1 200 OK\"\n",
      "2024-04-12 13:47:23 - INFO - created_translation: happen when head full\n"
     ]
    }
   ],
   "source": [
    "# Important is to set working directory to live_translator-dev. Below code switches working directory from from live-translator-app//test to live_translator-dev\n",
    "if os.path.basename(os.getcwd()) == \"test\":\n",
    "    os.chdir(os.path.dirname(os.getcwd()))\n",
    "# read all utils - get settings anf functions\n",
    "%run -i \"translator_app\\utils.py\"\n",
    "# define threads\n",
    "recording_thread = threading.Thread(target=record_audio)\n",
    "writing_thread = threading.Thread(target=write_audio)\n",
    "transcript_thread = threading.Thread(target=transcript)\n",
    "translate_thread = threading.Thread(target=translate)\n",
    "# run threads\n",
    "recording_thread.start()\n",
    "writing_thread.start()\n",
    "transcript_thread.start()\n",
    "translate_thread.start()"
   ]
  },
  {
   "cell_type": "code",
   "execution_count": 3,
   "metadata": {
    "metadata": {}
   },
   "outputs": [],
   "source": [
    "# Stop all active running threads\n",
    "globals.run_threads = False"
   ]
  }
 ],
 "metadata": {
  "kernelspec": {
   "display_name": "env",
   "language": "python",
   "name": "python3"
  },
  "language_info": {
   "codemirror_mode": {
    "name": "ipython",
    "version": 3
   },
   "file_extension": ".py",
   "mimetype": "text/x-python",
   "name": "python",
   "nbconvert_exporter": "python",
   "pygments_lexer": "ipython3",
   "version": "3.9.13"
  }
 },
 "nbformat": 4,
 "nbformat_minor": 2
}
