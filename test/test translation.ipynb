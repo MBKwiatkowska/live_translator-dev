{
 "cells": [
  {
   "cell_type": "code",
   "execution_count": 1,
   "metadata": {
    "metadata": {}
   },
   "outputs": [],
   "source": [
    "import os\n",
    "import threading\n",
    "\n",
    "os.getcwd()\n",
    "if os.path.basename(os.getcwd()) == \"test\":\n",
    "    os.chdir(os.path.dirname(os.getcwd()))\n",
    "file_name = \"local_test_audios/output_0.wav\"\n",
    "# wczytanie funkcji z pliku utils.py"
   ]
  },
  {
   "cell_type": "code",
   "execution_count": 2,
   "metadata": {
    "metadata": {}
   },
   "outputs": [
    {
     "name": "stdout",
     "output_type": "stream",
     "text": [
      "c:\\repo\\live_translator-dev\n",
      "c:\\repo\\live_translator-dev\n"
     ]
    }
   ],
   "source": [
    "# Important is to set working directory to live_translator-dev. Below code switches working directory from from live-translator-app//test to live_translator-dev\n",
    "if os.path.basename(os.getcwd()) == \"test\":\n",
    "    os.chdir(os.path.dirname(os.getcwd()))\n",
    "# read all utils - get settings anf functions\n",
    "%run -i \"translator_app\\utils.py\"\n",
    "# define threads\n",
    "\n",
    "recording_thread = threading.Thread(target=record_audio)\n",
    "writing_thread = threading.Thread(target=write_audio)\n",
    "transcript_thread = threading.Thread(target=transcript)\n",
    "translate_thread = threading.Thread(target=translate)\n",
    "# run threads\n",
    "recording_thread.start()\n",
    "writing_thread.start()\n",
    "transcript_thread.start()\n",
    "translate_thread.start()"
   ]
  },
  {
   "cell_type": "code",
   "execution_count": 3,
   "metadata": {
    "metadata": {}
   },
   "outputs": [],
   "source": [
    "# Stop all active running threads\n",
    "globals.run_threads = False"
   ]
  }
 ],
 "metadata": {
  "kernelspec": {
   "display_name": "env",
   "language": "python",
   "name": "python3"
  },
  "language_info": {
   "codemirror_mode": {
    "name": "ipython",
    "version": 3
   },
   "file_extension": ".py",
   "mimetype": "text/x-python",
   "name": "python",
   "nbconvert_exporter": "python",
   "pygments_lexer": "ipython3",
   "version": "3.9.13"
  }
 },
 "nbformat": 4,
 "nbformat_minor": 2
}
